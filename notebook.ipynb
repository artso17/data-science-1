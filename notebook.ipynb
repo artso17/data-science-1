{
  "nbformat": 4,
  "nbformat_minor": 0,
  "metadata": {
    "colab": {
      "name": "Untitled0.ipynb",
      "provenance": [],
      "collapsed_sections": [],
      "authorship_tag": "ABX9TyMXkN1IBxTJfTUzIxQ99mZg",
      "include_colab_link": true
    },
    "kernelspec": {
      "name": "python3",
      "display_name": "Python 3"
    },
    "language_info": {
      "name": "python"
    }
  },
  "cells": [
    {
      "cell_type": "markdown",
      "metadata": {
        "id": "view-in-github",
        "colab_type": "text"
      },
      "source": [
        "<a href=\"https://colab.research.google.com/github/artso17/data-science-1/blob/main/notebook.ipynb\" target=\"_parent\"><img src=\"https://colab.research.google.com/assets/colab-badge.svg\" alt=\"Open In Colab\"/></a>"
      ]
    },
    {
      "cell_type": "code",
      "execution_count": null,
      "metadata": {
        "id": "BRRwQfH0D9Mz"
      },
      "outputs": [],
      "source": [
        "import numpy as np\n",
        "import pandas as pd\n",
        "import scipy.stats as stats\n",
        "import matplotlib.pyplot as plt\n",
        "import math"
      ]
    },
    {
      "cell_type": "code",
      "source": [
        "np.random.seed(6)\n",
        "population_ages1=stats.poisson.rvs(loc=18,mu=35,size=150000)\n",
        "population_ages2=stats.poisson.rvs(loc=18,mu=10,size=100000)\n",
        "\n",
        "minnesota_ages1=stats.poisson.rvs(loc=18,mu=30,size=30)\n",
        "minnesota_ages2=stats.poisson.rvs(loc=18,mu=10,size=20)\n"
      ],
      "metadata": {
        "id": "9ht2heLXEPA7"
      },
      "execution_count": null,
      "outputs": []
    },
    {
      "cell_type": "code",
      "source": [
        "population_ages=np.concatenate((population_ages1,population_ages2))\n",
        "minnesota_ages=np.concatenate((minnesota_ages1,minnesota_ages2))"
      ],
      "metadata": {
        "id": "EN28KeDyZ1Bn"
      },
      "execution_count": null,
      "outputs": []
    },
    {
      "cell_type": "code",
      "source": [
        "print(population_ages.mean())\n",
        "print(minnesota_ages.mean())"
      ],
      "metadata": {
        "colab": {
          "base_uri": "https://localhost:8080/"
        },
        "id": "CA6W_NAUaE0Y",
        "outputId": "c8204d64-ed45-404a-dc8d-935a9faf6105"
      },
      "execution_count": null,
      "outputs": [
        {
          "output_type": "stream",
          "name": "stdout",
          "text": [
            "43.000112\n",
            "39.26\n"
          ]
        }
      ]
    },
    {
      "cell_type": "code",
      "source": [
        "(t_test,p_val)=stats.ttest_1samp(a=minnesota_ages,popmean=population_ages.mean())\n",
        "print(t_test,p_val)"
      ],
      "metadata": {
        "colab": {
          "base_uri": "https://localhost:8080/"
        },
        "id": "Iute5wH2ayN-",
        "outputId": "24afc8c6-aec5-448a-f6cc-6cfa0387fb62"
      },
      "execution_count": null,
      "outputs": [
        {
          "output_type": "stream",
          "name": "stdout",
          "text": [
            "-2.574271488365502 0.013118685425061729\n"
          ]
        }
      ]
    },
    {
      "cell_type": "code",
      "source": [
        "print(minnesota_ages)\n",
        "print(population_ages.mean())"
      ],
      "metadata": {
        "colab": {
          "base_uri": "https://localhost:8080/"
        },
        "id": "e6ajoOeLbWq3",
        "outputId": "251e9c68-c854-4bd4-a006-aaf4d1b358be"
      },
      "execution_count": null,
      "outputs": [
        {
          "output_type": "stream",
          "name": "stdout",
          "text": [
            "[22 22 24 25 25 26 28 28 28 28 28 29 29 29 31 32 32 32 34 36 37 37 38 38\n",
            " 41 41 42 42 43 44 45 45 46 46 46 46 47 47 47 47 49 50 51 51 51 53 54 55\n",
            " 56 60]\n",
            "43.000112\n"
          ]
        }
      ]
    },
    {
      "cell_type": "code",
      "source": [
        "stats.t.ppf(q=.025, # Quantile to check\n",
        "            df=len(minnesota_ages)-1) #Degrees of freedom / n_sample - 1"
      ],
      "metadata": {
        "colab": {
          "base_uri": "https://localhost:8080/"
        },
        "id": "gq02lMzCb9dz",
        "outputId": "ebb0972b-7e82-41d2-b7db-dae815872bfc"
      },
      "execution_count": null,
      "outputs": [
        {
          "output_type": "execute_result",
          "data": {
            "text/plain": [
              "-2.0095752344892093"
            ]
          },
          "metadata": {},
          "execution_count": 23
        }
      ]
    },
    {
      "cell_type": "code",
      "source": [
        "stats.t.cdf(x=t_test, # t-test statistic\n",
        "            df=len(minnesota_ages)-1)*2 # multiply by two for two tailed test"
      ],
      "metadata": {
        "colab": {
          "base_uri": "https://localhost:8080/"
        },
        "id": "ZC24dytdcXFM",
        "outputId": "e709ba7f-793e-4647-c924-55195a5e75a4"
      },
      "execution_count": null,
      "outputs": [
        {
          "output_type": "execute_result",
          "data": {
            "text/plain": [
              "0.013118685425061729"
            ]
          },
          "metadata": {},
          "execution_count": 37
        }
      ]
    },
    {
      "cell_type": "code",
      "source": [
        "sigma=minnesota_ages.std()/np.sqrt(50)\n",
        "\n",
        "stats.t.interval(.95, # confidence level\n",
        "                 49, # degrees of freedom\n",
        "                 minnesota_ages.mean(), # sample mean\n",
        "                 scale=sigma) # standard dev estimate"
      ],
      "metadata": {
        "colab": {
          "base_uri": "https://localhost:8080/"
        },
        "id": "V7uevKkNf3Bu",
        "outputId": "4ae12e49-9049-4e38-990a-25bcaa38b2ec"
      },
      "execution_count": null,
      "outputs": [
        {
          "output_type": "execute_result",
          "data": {
            "text/plain": [
              "(36.369669080722176, 42.15033091927782)"
            ]
          },
          "metadata": {},
          "execution_count": 42
        }
      ]
    }
  ]
}